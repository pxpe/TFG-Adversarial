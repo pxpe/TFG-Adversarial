{
 "cells": [
  {
   "cell_type": "code",
   "execution_count": 18,
   "metadata": {},
   "outputs": [],
   "source": [
    "import tensorflow as tf\n",
    "from tensorflow.keras.models import Model\n",
    "from tensorflow.keras.layers import Input, Conv2D, MaxPooling2D, UpSampling2D, BatchNormalization, Dropout\n",
    "from tensorflow.python.keras.models import Sequential\n",
    "\n",
    "from tensorflow.keras.optimizers import Adam\n",
    "\n",
    "\n",
    "from tensorflow.keras.datasets import cifar10\n",
    "import numpy as np\n",
    "from matplotlib import pyplot as plt"
   ]
  },
  {
   "cell_type": "code",
   "execution_count": 19,
   "metadata": {},
   "outputs": [],
   "source": [
    "def create_denoising_autoencoder():\n",
    "    input_img = Input(shape=(32, 32, 3))\n",
    "\n",
    "    # Encoder\n",
    "    x = Conv2D(32, (3, 3), activation='relu', padding='same')(input_img)\n",
    "    x = MaxPooling2D((2, 2), padding='same')(x)\n",
    "    x = Conv2D(32, (3, 3), activation='relu', padding='same')(x)\n",
    "    encoded = MaxPooling2D((2, 2), padding='same')(x)\n",
    "\n",
    "    # Decoder\n",
    "    x = Conv2D(32, (3, 3), activation='relu', padding='same')(encoded)\n",
    "    x = UpSampling2D((2, 2))(x)\n",
    "    x = Conv2D(32, (3, 3), activation='relu', padding='same')(x)\n",
    "    x = UpSampling2D((2, 2))(x)\n",
    "    decoded = Conv2D(3, (3, 3), activation='sigmoid', padding='same')(x)\n",
    "\n",
    "    autoencoder = Model(input_img, decoded)\n",
    "    autoencoder.compile(optimizer='adam', loss='binary_crossentropy')\n",
    "    return autoencoder"
   ]
  },
  {
   "cell_type": "code",
   "execution_count": 20,
   "metadata": {},
   "outputs": [],
   "source": [
    "# Cargar el dataset CIFAR-10\n",
    "(X_train, y_train), (X_test, y_test) = cifar10.load_data()\n",
    "\n",
    "# Normalizar los datos\n",
    "X_train = X_train.astype('float32') / 255.\n",
    "X_test = X_test.astype('float32')   / 255."
   ]
  },
  {
   "cell_type": "code",
   "execution_count": 21,
   "metadata": {},
   "outputs": [],
   "source": [
    "\n",
    "# Generar datos ruidosos\n",
    "noise_factor = 0.10\n",
    "X_train_noisy = X_train + noise_factor * np.random.normal(loc=0.0, scale=1.0, size=X_train.shape)\n",
    "X_train_noisy = np.clip(X_train_noisy, 0., 1.)\n",
    "\n",
    "X_test_noisy = X_test + noise_factor * np.random.normal(loc=0.0, scale=1.0, size=X_test.shape)\n",
    "X_test_noisy = np.clip(X_test_noisy, 0., 1.)\n",
    "\n"
   ]
  },
  {
   "cell_type": "code",
   "execution_count": 22,
   "metadata": {},
   "outputs": [],
   "source": [
    "# Seleccionar directorio para guardar los logs\n",
    "logs_dir = 'logs'\n",
    "tensorboard_callback = tf.keras.callbacks.TensorBoard(log_dir=logs_dir, histogram_freq=1)"
   ]
  },
  {
   "cell_type": "code",
   "execution_count": 23,
   "metadata": {},
   "outputs": [
    {
     "name": "stderr",
     "output_type": "stream",
     "text": [
      "d:\\UMA\\TFG\\TFG-Adversarial\\myenv\\lib\\site-packages\\keras\\optimizers\\optimizer_v2\\adam.py:114: UserWarning: The `lr` argument is deprecated, use `learning_rate` instead.\n",
      "  super().__init__(name, **kwargs)\n"
     ]
    },
    {
     "name": "stdout",
     "output_type": "stream",
     "text": [
      "Epoch 1/30\n",
      "196/196 [==============================] - 16s 74ms/step - loss: 0.0150 - val_loss: 0.0346\n",
      "Epoch 2/30\n",
      "196/196 [==============================] - 13s 65ms/step - loss: 0.0081 - val_loss: 0.0112\n",
      "Epoch 3/30\n",
      "196/196 [==============================] - 13s 65ms/step - loss: 0.0072 - val_loss: 0.0062\n",
      "Epoch 4/30\n",
      "196/196 [==============================] - 13s 68ms/step - loss: 0.0067 - val_loss: 0.0048\n",
      "Epoch 5/30\n",
      "196/196 [==============================] - 13s 69ms/step - loss: 0.0062 - val_loss: 0.0048\n",
      "Epoch 6/30\n",
      "196/196 [==============================] - 13s 66ms/step - loss: 0.0059 - val_loss: 0.0044\n",
      "Epoch 7/30\n",
      "196/196 [==============================] - 13s 65ms/step - loss: 0.0057 - val_loss: 0.0043\n",
      "Epoch 8/30\n",
      "196/196 [==============================] - 13s 68ms/step - loss: 0.0055 - val_loss: 0.0040\n",
      "Epoch 9/30\n",
      "196/196 [==============================] - 13s 65ms/step - loss: 0.0054 - val_loss: 0.0041\n",
      "Epoch 10/30\n",
      "196/196 [==============================] - 13s 67ms/step - loss: 0.0053 - val_loss: 0.0039\n",
      "Epoch 11/30\n",
      "196/196 [==============================] - 13s 66ms/step - loss: 0.0056 - val_loss: 0.0092\n",
      "Epoch 12/30\n",
      "196/196 [==============================] - 13s 66ms/step - loss: 0.0052 - val_loss: 0.0041\n",
      "Epoch 13/30\n",
      "196/196 [==============================] - 13s 66ms/step - loss: 0.0051 - val_loss: 0.0037\n",
      "Epoch 14/30\n",
      "196/196 [==============================] - 13s 66ms/step - loss: 0.0050 - val_loss: 0.0036\n",
      "Epoch 15/30\n",
      "196/196 [==============================] - 13s 66ms/step - loss: 0.0050 - val_loss: 0.0034\n",
      "Epoch 16/30\n",
      "196/196 [==============================] - 13s 66ms/step - loss: 0.0049 - val_loss: 0.0036\n",
      "Epoch 17/30\n",
      "196/196 [==============================] - 13s 66ms/step - loss: 0.0048 - val_loss: 0.0036\n",
      "Epoch 18/30\n",
      "196/196 [==============================] - 13s 65ms/step - loss: 0.0048 - val_loss: 0.0034\n",
      "Epoch 19/30\n",
      "196/196 [==============================] - 13s 64ms/step - loss: 0.0050 - val_loss: 0.0042\n",
      "Epoch 20/30\n",
      "196/196 [==============================] - 13s 65ms/step - loss: 0.0048 - val_loss: 0.0034\n",
      "Epoch 21/30\n",
      "196/196 [==============================] - 13s 66ms/step - loss: 0.0047 - val_loss: 0.0037\n",
      "Epoch 22/30\n",
      "196/196 [==============================] - 13s 66ms/step - loss: 0.0047 - val_loss: 0.0033\n",
      "Epoch 23/30\n",
      "196/196 [==============================] - 14s 69ms/step - loss: 0.0046 - val_loss: 0.0033\n",
      "Epoch 24/30\n",
      "196/196 [==============================] - 13s 64ms/step - loss: 0.0046 - val_loss: 0.0034\n",
      "Epoch 25/30\n",
      "196/196 [==============================] - 12s 63ms/step - loss: 0.0046 - val_loss: 0.0032\n",
      "Epoch 26/30\n",
      "196/196 [==============================] - 12s 63ms/step - loss: 0.0046 - val_loss: 0.0032\n",
      "Epoch 27/30\n",
      "196/196 [==============================] - 12s 61ms/step - loss: 0.0046 - val_loss: 0.0034\n",
      "Epoch 28/30\n",
      "196/196 [==============================] - 12s 62ms/step - loss: 0.0045 - val_loss: 0.0032\n",
      "Epoch 29/30\n",
      "196/196 [==============================] - 12s 62ms/step - loss: 0.0045 - val_loss: 0.0033\n",
      "Epoch 30/30\n",
      "196/196 [==============================] - 12s 63ms/step - loss: 0.0045 - val_loss: 0.0032\n"
     ]
    }
   ],
   "source": [
    "autoencoder = create_denoising_autoencoder()\n",
    "\n",
    "\n",
    "# Entrenar el autoencoder\n",
    "hist = autoencoder.fit(X_train_noisy, X_train, epochs=30, batch_size=256, shuffle=True, validation_data=(X_test_noisy, X_test), callbacks=[tensorboard_callback])"
   ]
  },
  {
   "cell_type": "code",
   "execution_count": 24,
   "metadata": {},
   "outputs": [
    {
     "name": "stdout",
     "output_type": "stream",
     "text": [
      "Model: \"model_3\"\n",
      "_________________________________________________________________\n",
      " Layer (type)                Output Shape              Param #   \n",
      "=================================================================\n",
      " input_4 (InputLayer)        [(None, 32, 32, 3)]       0         \n",
      "                                                                 \n",
      " conv2d_15 (Conv2D)          (None, 32, 32, 32)        896       \n",
      "                                                                 \n",
      " batch_normalization (BatchN  (None, 32, 32, 32)       128       \n",
      " ormalization)                                                   \n",
      "                                                                 \n",
      " max_pooling2d_6 (MaxPooling  (None, 16, 16, 32)       0         \n",
      " 2D)                                                             \n",
      "                                                                 \n",
      " dropout (Dropout)           (None, 16, 16, 32)        0         \n",
      "                                                                 \n",
      " conv2d_16 (Conv2D)          (None, 16, 16, 64)        18496     \n",
      "                                                                 \n",
      " batch_normalization_1 (Batc  (None, 16, 16, 64)       256       \n",
      " hNormalization)                                                 \n",
      "                                                                 \n",
      " max_pooling2d_7 (MaxPooling  (None, 8, 8, 64)         0         \n",
      " 2D)                                                             \n",
      "                                                                 \n",
      " dropout_1 (Dropout)         (None, 8, 8, 64)          0         \n",
      "                                                                 \n",
      " conv2d_17 (Conv2D)          (None, 8, 8, 128)         73856     \n",
      "                                                                 \n",
      " conv2d_18 (Conv2D)          (None, 8, 8, 128)         147584    \n",
      "                                                                 \n",
      " batch_normalization_2 (Batc  (None, 8, 8, 128)        512       \n",
      " hNormalization)                                                 \n",
      "                                                                 \n",
      " up_sampling2d_6 (UpSampling  (None, 16, 16, 128)      0         \n",
      " 2D)                                                             \n",
      "                                                                 \n",
      " dropout_2 (Dropout)         (None, 16, 16, 128)       0         \n",
      "                                                                 \n",
      " conv2d_19 (Conv2D)          (None, 16, 16, 64)        73792     \n",
      "                                                                 \n",
      " batch_normalization_3 (Batc  (None, 16, 16, 64)       256       \n",
      " hNormalization)                                                 \n",
      "                                                                 \n",
      " up_sampling2d_7 (UpSampling  (None, 32, 32, 64)       0         \n",
      " 2D)                                                             \n",
      "                                                                 \n",
      " dropout_3 (Dropout)         (None, 32, 32, 64)        0         \n",
      "                                                                 \n",
      " conv2d_20 (Conv2D)          (None, 32, 32, 3)         1731      \n",
      "                                                                 \n",
      "=================================================================\n",
      "Total params: 317,507\n",
      "Trainable params: 316,931\n",
      "Non-trainable params: 576\n",
      "_________________________________________________________________\n"
     ]
    }
   ],
   "source": [
    "autoencoder.summary()"
   ]
  },
  {
   "cell_type": "code",
   "execution_count": 25,
   "metadata": {},
   "outputs": [
    {
     "data": {
      "image/png": "[encoded data removed]",
      "text/plain": [
       "<Figure size 640x480 with 1 Axes>"
      ]
     },
     "metadata": {},
     "output_type": "display_data"
    }
   ],
   "source": [
    "# Evaluar la pérdida del modelo\n",
    "fig = plt.figure()\n",
    "plt.plot(hist.history['loss'], color='teal', label='loss')\n",
    "plt.plot(hist.history['val_loss'], color='orange', label='val_loss')\n",
    "fig.suptitle('Loss', fontsize=20)\n",
    "plt.legend(loc=\"upper left\")\n",
    "plt.show()"
   ]
  },
  {
   "cell_type": "code",
   "execution_count": 26,
   "metadata": {},
   "outputs": [],
   "source": [
    "autoencoder.save('autoencoder.h5')"
   ]
  },
  {
   "cell_type": "code",
   "execution_count": null,
   "metadata": {},
   "outputs": [],
   "source": [
    "autoencoder_model = tf.keras.models.load_model('autoencoder.h5')\n"
   ]
  }
 ],
 "metadata": {
  "kernelspec": {
   "display_name": "myenv",
   "language": "python",
   "name": "python3"
  },
  "language_info": {
   "codemirror_mode": {
    "name": "ipython",
    "version": 3
   },
   "file_extension": ".py",
   "mimetype": "text/x-python",
   "name": "python",
   "nbconvert_exporter": "python",
   "pygments_lexer": "ipython3",
   "version": "3.9.0"
  }
 },
 "nbformat": 4,
 "nbformat_minor": 2
}
