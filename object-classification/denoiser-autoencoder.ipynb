{
 "cells": [
  {
   "cell_type": "code",
   "execution_count": 17,
   "metadata": {},
   "outputs": [],
   "source": [
    "import tensorflow as tf\n",
    "from tensorflow.keras.models import Model\n",
    "from tensorflow.keras.layers import Input, Conv2D, MaxPooling2D, UpSampling2D\n",
    "from tensorflow.python.keras.models import Sequential\n",
    "\n",
    "\n",
    "from tensorflow.keras.datasets import cifar10\n",
    "import numpy as np"
   ]
  },
  {
   "cell_type": "code",
   "execution_count": 18,
   "metadata": {},
   "outputs": [],
   "source": [
    "def create_denoising_autoencoder():\n",
    "    input_img = Input(shape=(32, 32, 3))\n",
    "\n",
    "    # Encoder\n",
    "    x = Conv2D(32, (3, 3), activation='relu', padding='same')(input_img)\n",
    "    x = MaxPooling2D((2, 2), padding='same')(x)\n",
    "    x = Conv2D(32, (3, 3), activation='relu', padding='same')(x)\n",
    "    encoded = MaxPooling2D((2, 2), padding='same')(x)\n",
    "\n",
    "    # Decoder\n",
    "    x = Conv2D(32, (3, 3), activation='relu', padding='same')(encoded)\n",
    "    x = UpSampling2D((2, 2))(x)\n",
    "    x = Conv2D(32, (3, 3), activation='relu', padding='same')(x)\n",
    "    x = UpSampling2D((2, 2))(x)\n",
    "    decoded = Conv2D(3, (3, 3), activation='sigmoid', padding='same')(x)\n",
    "\n",
    "    autoencoder = Model(input_img, decoded)\n",
    "    autoencoder.compile(optimizer='adam', loss='binary_crossentropy')\n",
    "    return autoencoder\n",
    "\n"
   ]
  },
  {
   "cell_type": "code",
   "execution_count": 29,
   "metadata": {},
   "outputs": [],
   "source": [
    "# Cargar el dataset CIFAR-10\n",
    "(X_train, y_train), (X_test, y_test) = cifar10.load_data()\n",
    "\n",
    "# Normalizar los datos\n",
    "X_train = X_train.astype('float32') / 255.\n",
    "X_test = X_test.astype('float32')   / 255."
   ]
  },
  {
   "cell_type": "code",
   "execution_count": 30,
   "metadata": {},
   "outputs": [],
   "source": [
    "\n",
    "# Generar datos ruidosos\n",
    "noise_factor = 0.10\n",
    "X_train_noisy = X_train + noise_factor * np.random.normal(loc=0.0, scale=1.0, size=X_train.shape)\n",
    "X_train_noisy = np.clip(X_train_noisy, 0., 1.)\n",
    "\n",
    "X_test_noisy = X_test + noise_factor * np.random.normal(loc=0.0, scale=1.0, size=X_test.shape)\n",
    "X_test_noisy = np.clip(X_test_noisy, 0., 1.)"
   ]
  },
  {
   "cell_type": "code",
   "execution_count": 21,
   "metadata": {},
   "outputs": [
    {
     "name": "stdout",
     "output_type": "stream",
     "text": [
      "Epoch 1/30\n",
      "196/196 [==============================] - 59s 293ms/step - loss: 0.5910 - val_loss: 0.5721\n",
      "Epoch 2/30\n",
      "196/196 [==============================] - 58s 297ms/step - loss: 0.5687 - val_loss: 0.5674\n",
      "Epoch 3/30\n",
      "196/196 [==============================] - 54s 275ms/step - loss: 0.5657 - val_loss: 0.5654\n",
      "Epoch 4/30\n",
      "196/196 [==============================] - 49s 252ms/step - loss: 0.5643 - val_loss: 0.5647\n",
      "Epoch 5/30\n",
      "196/196 [==============================] - 52s 267ms/step - loss: 0.5633 - val_loss: 0.5640\n",
      "Epoch 6/30\n",
      "196/196 [==============================] - 50s 256ms/step - loss: 0.5626 - val_loss: 0.5629\n",
      "Epoch 7/30\n",
      "196/196 [==============================] - 51s 259ms/step - loss: 0.5620 - val_loss: 0.5630\n",
      "Epoch 8/30\n",
      "196/196 [==============================] - 53s 272ms/step - loss: 0.5616 - val_loss: 0.5637\n",
      "Epoch 9/30\n",
      "196/196 [==============================] - 50s 256ms/step - loss: 0.5612 - val_loss: 0.5618\n",
      "Epoch 10/30\n",
      "196/196 [==============================] - 55s 279ms/step - loss: 0.5609 - val_loss: 0.5613\n",
      "Epoch 11/30\n",
      "196/196 [==============================] - 51s 263ms/step - loss: 0.5605 - val_loss: 0.5613\n",
      "Epoch 12/30\n",
      "196/196 [==============================] - 53s 270ms/step - loss: 0.5604 - val_loss: 0.5608\n",
      "Epoch 13/30\n",
      "196/196 [==============================] - 50s 256ms/step - loss: 0.5601 - val_loss: 0.5609\n",
      "Epoch 14/30\n",
      "196/196 [==============================] - 50s 254ms/step - loss: 0.5599 - val_loss: 0.5604\n",
      "Epoch 15/30\n",
      "196/196 [==============================] - 51s 259ms/step - loss: 0.5599 - val_loss: 0.5603\n",
      "Epoch 16/30\n",
      "196/196 [==============================] - 51s 261ms/step - loss: 0.5597 - val_loss: 0.5601\n",
      "Epoch 17/30\n",
      "196/196 [==============================] - 51s 262ms/step - loss: 0.5593 - val_loss: 0.5600\n",
      "Epoch 18/30\n",
      "196/196 [==============================] - 51s 262ms/step - loss: 0.5592 - val_loss: 0.5598\n",
      "Epoch 19/30\n",
      "196/196 [==============================] - 50s 257ms/step - loss: 0.5592 - val_loss: 0.5598\n",
      "Epoch 20/30\n",
      "196/196 [==============================] - 52s 263ms/step - loss: 0.5588 - val_loss: 0.5595\n",
      "Epoch 21/30\n",
      "196/196 [==============================] - 51s 258ms/step - loss: 0.5589 - val_loss: 0.5600\n",
      "Epoch 22/30\n",
      "196/196 [==============================] - 51s 262ms/step - loss: 0.5586 - val_loss: 0.5593\n",
      "Epoch 23/30\n",
      "196/196 [==============================] - 53s 270ms/step - loss: 0.5585 - val_loss: 0.5594\n",
      "Epoch 24/30\n",
      "196/196 [==============================] - 53s 272ms/step - loss: 0.5586 - val_loss: 0.5590\n",
      "Epoch 25/30\n",
      "196/196 [==============================] - 55s 281ms/step - loss: 0.5583 - val_loss: 0.5600\n",
      "Epoch 26/30\n",
      "196/196 [==============================] - 53s 270ms/step - loss: 0.5583 - val_loss: 0.5590\n",
      "Epoch 27/30\n",
      "196/196 [==============================] - 51s 259ms/step - loss: 0.5582 - val_loss: 0.5588\n",
      "Epoch 28/30\n",
      "196/196 [==============================] - 51s 259ms/step - loss: 0.5579 - val_loss: 0.5607\n",
      "Epoch 29/30\n",
      "196/196 [==============================] - 51s 259ms/step - loss: 0.5580 - val_loss: 0.5586\n",
      "Epoch 30/30\n",
      "196/196 [==============================] - 51s 260ms/step - loss: 0.5580 - val_loss: 0.5587\n"
     ]
    },
    {
     "data": {
      "text/plain": [
       "<keras.callbacks.History at 0x22234a805b0>"
      ]
     },
     "execution_count": 21,
     "metadata": {},
     "output_type": "execute_result"
    }
   ],
   "source": [
    "autoencoder = create_denoising_autoencoder()\n",
    "\n",
    "\n",
    "# Entrenar el autoencoder\n",
    "autoencoder.fit(X_train_noisy, X_train, epochs=30, batch_size=256, shuffle=True, validation_data=(X_test_noisy, X_test))"
   ]
  },
  {
   "cell_type": "code",
   "execution_count": 22,
   "metadata": {},
   "outputs": [],
   "source": [
    "autoencoder.save('autoencoder.h5')"
   ]
  },
  {
   "cell_type": "code",
   "execution_count": null,
   "metadata": {},
   "outputs": [],
   "source": [
    "autoencoder_model = tf.keras.models.load_model('autoencoder.h5')\n",
    "\n",
    "# Mostrar las imágenes originales y las imágenes con ruido\n",
    "import matplotlib.pyplot as plt\n",
    "\n",
    "n = 4\n",
    "plt.figure(figsize=(20, 4))\n",
    "\n",
    "for i in range(n):\n",
    "    # Imagen original\n",
    "    ax = plt.subplot(2, n, i + 1)\n",
    "    plt.imshow(X_test[i])\n",
    "    plt.title('Original')\n",
    "    plt.gray()\n",
    "    ax.get_xaxis().set_visible(False)\n",
    "    ax.get_yaxis().set_visible(False)\n",
    "\n",
    "    # Imagen con ruido\n",
    "    ax = plt.subplot(2, n, i + 1 + n)\n",
    "    plt.imshow(X_test_noisy[i])\n",
    "    plt.title('Con ruido')\n",
    "    plt.gray()\n",
    "    ax.get_xaxis().set_visible(False)\n",
    "    ax.get_yaxis().set_visible(False)\n",
    "\n",
    "plt.show()\n"
   ]
  }
 ],
 "metadata": {
  "kernelspec": {
   "display_name": "myenv",
   "language": "python",
   "name": "python3"
  },
  "language_info": {
   "codemirror_mode": {
    "name": "ipython",
    "version": 3
   },
   "file_extension": ".py",
   "mimetype": "text/x-python",
   "name": "python",
   "nbconvert_exporter": "python",
   "pygments_lexer": "ipython3",
   "version": "3.9.0"
  }
 },
 "nbformat": 4,
 "nbformat_minor": 2
}
