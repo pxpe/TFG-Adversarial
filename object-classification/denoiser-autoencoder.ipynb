{
 "cells": [
  {
   "cell_type": "code",
   "execution_count": 2,
   "metadata": {},
   "outputs": [],
   "source": [
    "import tensorflow as tf\n",
    "from tensorflow.keras.models import Model\n",
    "from tensorflow.keras.layers import Input, Conv2D, MaxPooling2D, UpSampling2D\n",
    "from tensorflow.python.keras.models import Sequential\n",
    "\n",
    "\n",
    "from tensorflow.keras.datasets import cifar10\n",
    "import numpy as np"
   ]
  },
  {
   "cell_type": "code",
   "execution_count": 3,
   "metadata": {},
   "outputs": [],
   "source": [
    "def create_denoising_autoencoder():\n",
    "    input_img = Input(shape=(32, 32, 3))\n",
    "\n",
    "    # Encoder\n",
    "    x = Conv2D(32, (3, 3), activation='relu', padding='same')(input_img)\n",
    "    x = MaxPooling2D((2, 2), padding='same')(x)\n",
    "    x = Conv2D(32, (3, 3), activation='relu', padding='same')(x)\n",
    "    encoded = MaxPooling2D((2, 2), padding='same')(x)\n",
    "\n",
    "    # Decoder\n",
    "    x = Conv2D(32, (3, 3), activation='relu', padding='same')(encoded)\n",
    "    x = UpSampling2D((2, 2))(x)\n",
    "    x = Conv2D(32, (3, 3), activation='relu', padding='same')(x)\n",
    "    x = UpSampling2D((2, 2))(x)\n",
    "    decoded = Conv2D(3, (3, 3), activation='sigmoid', padding='same')(x)\n",
    "\n",
    "    autoencoder = Model(input_img, decoded)\n",
    "    autoencoder.compile(optimizer='adam', loss='binary_crossentropy')\n",
    "    return autoencoder\n",
    "\n"
   ]
  },
  {
   "cell_type": "code",
   "execution_count": 4,
   "metadata": {},
   "outputs": [],
   "source": [
    "# Cargar el dataset CIFAR-10\n",
    "(X_train, y_train), (X_test, y_test) = cifar10.load_data()\n",
    "\n",
    "# Normalizar los datos\n",
    "X_train = X_train.astype('float32') / 255.0\n",
    "X_test = X_test.astype('float32') / 255.0"
   ]
  },
  {
   "cell_type": "code",
   "execution_count": 5,
   "metadata": {},
   "outputs": [
    {
     "name": "stdout",
     "output_type": "stream",
     "text": [
      "Epoch 1/30\n",
      "196/196 [==============================] - 57s 281ms/step - loss: 0.6031 - val_loss: 0.5860\n",
      "Epoch 2/30\n",
      "196/196 [==============================] - 56s 286ms/step - loss: 0.5832 - val_loss: 0.5824\n",
      "Epoch 3/30\n",
      "196/196 [==============================] - 57s 292ms/step - loss: 0.5810 - val_loss: 0.5810\n",
      "Epoch 4/30\n",
      "196/196 [==============================] - 52s 266ms/step - loss: 0.5798 - val_loss: 0.5802\n",
      "Epoch 5/30\n",
      "196/196 [==============================] - 51s 259ms/step - loss: 0.5788 - val_loss: 0.5793\n",
      "Epoch 6/30\n",
      "196/196 [==============================] - 59s 300ms/step - loss: 0.5782 - val_loss: 0.5786\n",
      "Epoch 7/30\n",
      "196/196 [==============================] - 51s 258ms/step - loss: 0.5778 - val_loss: 0.5783\n",
      "Epoch 8/30\n",
      "196/196 [==============================] - 51s 261ms/step - loss: 0.5774 - val_loss: 0.5779\n",
      "Epoch 9/30\n",
      "196/196 [==============================] - 51s 260ms/step - loss: 0.5770 - val_loss: 0.5777\n",
      "Epoch 10/30\n",
      "196/196 [==============================] - 51s 258ms/step - loss: 0.5768 - val_loss: 0.5773\n",
      "Epoch 11/30\n",
      "196/196 [==============================] - 50s 256ms/step - loss: 0.5765 - val_loss: 0.5771\n",
      "Epoch 12/30\n",
      "196/196 [==============================] - 52s 265ms/step - loss: 0.5764 - val_loss: 0.5777\n",
      "Epoch 13/30\n",
      "196/196 [==============================] - 51s 263ms/step - loss: 0.5762 - val_loss: 0.5768\n",
      "Epoch 14/30\n",
      "196/196 [==============================] - 50s 255ms/step - loss: 0.5760 - val_loss: 0.5768\n",
      "Epoch 15/30\n",
      "196/196 [==============================] - 52s 263ms/step - loss: 0.5759 - val_loss: 0.5768\n",
      "Epoch 16/30\n",
      "196/196 [==============================] - 52s 264ms/step - loss: 0.5758 - val_loss: 0.5764\n",
      "Epoch 17/30\n",
      "196/196 [==============================] - 54s 274ms/step - loss: 0.5756 - val_loss: 0.5763\n",
      "Epoch 18/30\n",
      "196/196 [==============================] - 51s 261ms/step - loss: 0.5755 - val_loss: 0.5764\n",
      "Epoch 19/30\n",
      "196/196 [==============================] - 52s 264ms/step - loss: 0.5754 - val_loss: 0.5761\n",
      "Epoch 20/30\n",
      "196/196 [==============================] - 51s 258ms/step - loss: 0.5753 - val_loss: 0.5761\n",
      "Epoch 21/30\n",
      "196/196 [==============================] - 52s 267ms/step - loss: 0.5752 - val_loss: 0.5759\n",
      "Epoch 22/30\n",
      "196/196 [==============================] - 52s 263ms/step - loss: 0.5751 - val_loss: 0.5758\n",
      "Epoch 23/30\n",
      "196/196 [==============================] - 50s 255ms/step - loss: 0.5751 - val_loss: 0.5761\n",
      "Epoch 24/30\n",
      "196/196 [==============================] - 50s 257ms/step - loss: 0.5750 - val_loss: 0.5758\n",
      "Epoch 25/30\n",
      "196/196 [==============================] - 55s 281ms/step - loss: 0.5749 - val_loss: 0.5760\n",
      "Epoch 26/30\n",
      "196/196 [==============================] - 53s 269ms/step - loss: 0.5747 - val_loss: 0.5757\n",
      "Epoch 27/30\n",
      "196/196 [==============================] - 57s 289ms/step - loss: 0.5748 - val_loss: 0.5757\n",
      "Epoch 28/30\n",
      "196/196 [==============================] - 53s 271ms/step - loss: 0.5747 - val_loss: 0.5757\n",
      "Epoch 29/30\n",
      "196/196 [==============================] - 54s 278ms/step - loss: 0.5746 - val_loss: 0.5753\n",
      "Epoch 30/30\n",
      "196/196 [==============================] - 53s 269ms/step - loss: 0.5746 - val_loss: 0.5755\n"
     ]
    },
    {
     "data": {
      "text/plain": [
       "<keras.callbacks.History at 0x17600118880>"
      ]
     },
     "execution_count": 5,
     "metadata": {},
     "output_type": "execute_result"
    }
   ],
   "source": [
    "autoencoder = create_denoising_autoencoder()\n",
    "\n",
    "# Generar datos ruidosos\n",
    "noise_factor = 0.5\n",
    "X_train_noisy = X_train + noise_factor * np.random.normal(loc=0.0, scale=1.0, size=X_train.shape)\n",
    "X_train_noisy = np.clip(X_train_noisy, 0., 1.)\n",
    "\n",
    "X_test_noisy = X_test + noise_factor * np.random.normal(loc=0.0, scale=1.0, size=X_test.shape)\n",
    "X_test_noisy = np.clip(X_test_noisy, 0., 1.)\n",
    "\n",
    "# Entrenar el autoencoder\n",
    "autoencoder.fit(X_train_noisy, X_train, epochs=30, batch_size=256, shuffle=True, validation_data=(X_test_noisy, X_test))"
   ]
  },
  {
   "cell_type": "code",
   "execution_count": 6,
   "metadata": {},
   "outputs": [],
   "source": [
    "autoencoder.save('autoencoder.h5')"
   ]
  }
 ],
 "metadata": {
  "kernelspec": {
   "display_name": "myenv",
   "language": "python",
   "name": "python3"
  },
  "language_info": {
   "codemirror_mode": {
    "name": "ipython",
    "version": 3
   },
   "file_extension": ".py",
   "mimetype": "text/x-python",
   "name": "python",
   "nbconvert_exporter": "python",
   "pygments_lexer": "ipython3",
   "version": "3.9.0"
  }
 },
 "nbformat": 4,
 "nbformat_minor": 2
}
