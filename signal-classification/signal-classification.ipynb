{
 "cells": [
  {
   "cell_type": "markdown",
   "metadata": {},
   "source": [
    "# Clasificación de señales de tráfico usando TensorFlow y Keras"
   ]
  },
  {
   "cell_type": "markdown",
   "metadata": {},
   "source": [
    "Instalación de dependencias:"
   ]
  },
  {
   "cell_type": "code",
   "execution_count": 3,
   "metadata": {},
   "outputs": [
    {
     "name": "stdout",
     "output_type": "stream",
     "text": [
      "Requirement already satisfied: tensorflow in d:\\uma\\tfg\\tfg-adversarial\\myenv\\lib\\site-packages (2.16.1)\n",
      "Requirement already satisfied: opencv-python in d:\\uma\\tfg\\tfg-adversarial\\myenv\\lib\\site-packages (4.9.0.80)\n",
      "Requirement already satisfied: matplotlib in d:\\uma\\tfg\\tfg-adversarial\\myenv\\lib\\site-packages (3.8.3)\n",
      "Requirement already satisfied: tensorflow-intel==2.16.1 in d:\\uma\\tfg\\tfg-adversarial\\myenv\\lib\\site-packages (from tensorflow) (2.16.1)\n",
      "Requirement already satisfied: absl-py>=1.0.0 in d:\\uma\\tfg\\tfg-adversarial\\myenv\\lib\\site-packages (from tensorflow-intel==2.16.1->tensorflow) (2.1.0)\n",
      "Requirement already satisfied: astunparse>=1.6.0 in d:\\uma\\tfg\\tfg-adversarial\\myenv\\lib\\site-packages (from tensorflow-intel==2.16.1->tensorflow) (1.6.3)\n",
      "Requirement already satisfied: flatbuffers>=23.5.26 in d:\\uma\\tfg\\tfg-adversarial\\myenv\\lib\\site-packages (from tensorflow-intel==2.16.1->tensorflow) (24.3.7)\n",
      "Requirement already satisfied: gast!=0.5.0,!=0.5.1,!=0.5.2,>=0.2.1 in d:\\uma\\tfg\\tfg-adversarial\\myenv\\lib\\site-packages (from tensorflow-intel==2.16.1->tensorflow) (0.5.4)\n",
      "Requirement already satisfied: google-pasta>=0.1.1 in d:\\uma\\tfg\\tfg-adversarial\\myenv\\lib\\site-packages (from tensorflow-intel==2.16.1->tensorflow) (0.2.0)\n",
      "Requirement already satisfied: h5py>=3.10.0 in d:\\uma\\tfg\\tfg-adversarial\\myenv\\lib\\site-packages (from tensorflow-intel==2.16.1->tensorflow) (3.10.0)\n",
      "Requirement already satisfied: libclang>=13.0.0 in d:\\uma\\tfg\\tfg-adversarial\\myenv\\lib\\site-packages (from tensorflow-intel==2.16.1->tensorflow) (18.1.1)\n",
      "Requirement already satisfied: ml-dtypes~=0.3.1 in d:\\uma\\tfg\\tfg-adversarial\\myenv\\lib\\site-packages (from tensorflow-intel==2.16.1->tensorflow) (0.3.2)\n",
      "Requirement already satisfied: opt-einsum>=2.3.2 in d:\\uma\\tfg\\tfg-adversarial\\myenv\\lib\\site-packages (from tensorflow-intel==2.16.1->tensorflow) (3.3.0)\n",
      "Requirement already satisfied: packaging in d:\\uma\\tfg\\tfg-adversarial\\myenv\\lib\\site-packages (from tensorflow-intel==2.16.1->tensorflow) (24.0)\n",
      "Requirement already satisfied: protobuf!=4.21.0,!=4.21.1,!=4.21.2,!=4.21.3,!=4.21.4,!=4.21.5,<5.0.0dev,>=3.20.3 in d:\\uma\\tfg\\tfg-adversarial\\myenv\\lib\\site-packages (from tensorflow-intel==2.16.1->tensorflow) (4.25.3)\n",
      "Requirement already satisfied: requests<3,>=2.21.0 in d:\\uma\\tfg\\tfg-adversarial\\myenv\\lib\\site-packages (from tensorflow-intel==2.16.1->tensorflow) (2.31.0)\n",
      "Requirement already satisfied: setuptools in d:\\uma\\tfg\\tfg-adversarial\\myenv\\lib\\site-packages (from tensorflow-intel==2.16.1->tensorflow) (66.0.0)\n",
      "Requirement already satisfied: six>=1.12.0 in d:\\uma\\tfg\\tfg-adversarial\\myenv\\lib\\site-packages (from tensorflow-intel==2.16.1->tensorflow) (1.16.0)\n",
      "Requirement already satisfied: termcolor>=1.1.0 in d:\\uma\\tfg\\tfg-adversarial\\myenv\\lib\\site-packages (from tensorflow-intel==2.16.1->tensorflow) (2.4.0)\n",
      "Requirement already satisfied: typing-extensions>=3.6.6 in d:\\uma\\tfg\\tfg-adversarial\\myenv\\lib\\site-packages (from tensorflow-intel==2.16.1->tensorflow) (4.10.0)\n",
      "Requirement already satisfied: wrapt>=1.11.0 in d:\\uma\\tfg\\tfg-adversarial\\myenv\\lib\\site-packages (from tensorflow-intel==2.16.1->tensorflow) (1.16.0)\n",
      "Requirement already satisfied: grpcio<2.0,>=1.24.3 in d:\\uma\\tfg\\tfg-adversarial\\myenv\\lib\\site-packages (from tensorflow-intel==2.16.1->tensorflow) (1.62.1)\n",
      "Requirement already satisfied: tensorboard<2.17,>=2.16 in d:\\uma\\tfg\\tfg-adversarial\\myenv\\lib\\site-packages (from tensorflow-intel==2.16.1->tensorflow) (2.16.2)\n",
      "Requirement already satisfied: keras>=3.0.0 in d:\\uma\\tfg\\tfg-adversarial\\myenv\\lib\\site-packages (from tensorflow-intel==2.16.1->tensorflow) (3.1.0)\n",
      "Requirement already satisfied: numpy<2.0.0,>=1.26.0 in d:\\uma\\tfg\\tfg-adversarial\\myenv\\lib\\site-packages (from tensorflow-intel==2.16.1->tensorflow) (1.26.4)\n",
      "Requirement already satisfied: contourpy>=1.0.1 in d:\\uma\\tfg\\tfg-adversarial\\myenv\\lib\\site-packages (from matplotlib) (1.2.0)\n",
      "Requirement already satisfied: cycler>=0.10 in d:\\uma\\tfg\\tfg-adversarial\\myenv\\lib\\site-packages (from matplotlib) (0.12.1)\n",
      "Requirement already satisfied: fonttools>=4.22.0 in d:\\uma\\tfg\\tfg-adversarial\\myenv\\lib\\site-packages (from matplotlib) (4.50.0)\n",
      "Requirement already satisfied: kiwisolver>=1.3.1 in d:\\uma\\tfg\\tfg-adversarial\\myenv\\lib\\site-packages (from matplotlib) (1.4.5)\n",
      "Requirement already satisfied: pillow>=8 in d:\\uma\\tfg\\tfg-adversarial\\myenv\\lib\\site-packages (from matplotlib) (10.2.0)\n",
      "Requirement already satisfied: pyparsing>=2.3.1 in d:\\uma\\tfg\\tfg-adversarial\\myenv\\lib\\site-packages (from matplotlib) (3.1.2)\n",
      "Requirement already satisfied: python-dateutil>=2.7 in d:\\uma\\tfg\\tfg-adversarial\\myenv\\lib\\site-packages (from matplotlib) (2.8.2)\n",
      "Requirement already satisfied: wheel<1.0,>=0.23.0 in d:\\uma\\tfg\\tfg-adversarial\\myenv\\lib\\site-packages (from astunparse>=1.6.0->tensorflow-intel==2.16.1->tensorflow) (0.43.0)\n",
      "Requirement already satisfied: rich in d:\\uma\\tfg\\tfg-adversarial\\myenv\\lib\\site-packages (from keras>=3.0.0->tensorflow-intel==2.16.1->tensorflow) (13.7.1)\n",
      "Requirement already satisfied: namex in d:\\uma\\tfg\\tfg-adversarial\\myenv\\lib\\site-packages (from keras>=3.0.0->tensorflow-intel==2.16.1->tensorflow) (0.0.7)\n",
      "Requirement already satisfied: optree in d:\\uma\\tfg\\tfg-adversarial\\myenv\\lib\\site-packages (from keras>=3.0.0->tensorflow-intel==2.16.1->tensorflow) (0.10.0)\n",
      "Requirement already satisfied: charset-normalizer<4,>=2 in d:\\uma\\tfg\\tfg-adversarial\\myenv\\lib\\site-packages (from requests<3,>=2.21.0->tensorflow-intel==2.16.1->tensorflow) (3.3.2)\n",
      "Requirement already satisfied: idna<4,>=2.5 in d:\\uma\\tfg\\tfg-adversarial\\myenv\\lib\\site-packages (from requests<3,>=2.21.0->tensorflow-intel==2.16.1->tensorflow) (3.6)\n",
      "Requirement already satisfied: urllib3<3,>=1.21.1 in d:\\uma\\tfg\\tfg-adversarial\\myenv\\lib\\site-packages (from requests<3,>=2.21.0->tensorflow-intel==2.16.1->tensorflow) (2.2.1)\n",
      "Requirement already satisfied: certifi>=2017.4.17 in d:\\uma\\tfg\\tfg-adversarial\\myenv\\lib\\site-packages (from requests<3,>=2.21.0->tensorflow-intel==2.16.1->tensorflow) (2024.2.2)\n",
      "Requirement already satisfied: markdown>=2.6.8 in d:\\uma\\tfg\\tfg-adversarial\\myenv\\lib\\site-packages (from tensorboard<2.17,>=2.16->tensorflow-intel==2.16.1->tensorflow) (3.6)\n",
      "Requirement already satisfied: tensorboard-data-server<0.8.0,>=0.7.0 in d:\\uma\\tfg\\tfg-adversarial\\myenv\\lib\\site-packages (from tensorboard<2.17,>=2.16->tensorflow-intel==2.16.1->tensorflow) (0.7.2)\n",
      "Requirement already satisfied: werkzeug>=1.0.1 in d:\\uma\\tfg\\tfg-adversarial\\myenv\\lib\\site-packages (from tensorboard<2.17,>=2.16->tensorflow-intel==2.16.1->tensorflow) (3.0.1)\n",
      "Requirement already satisfied: MarkupSafe>=2.1.1 in d:\\uma\\tfg\\tfg-adversarial\\myenv\\lib\\site-packages (from werkzeug>=1.0.1->tensorboard<2.17,>=2.16->tensorflow-intel==2.16.1->tensorflow) (2.1.5)\n",
      "Requirement already satisfied: markdown-it-py>=2.2.0 in d:\\uma\\tfg\\tfg-adversarial\\myenv\\lib\\site-packages (from rich->keras>=3.0.0->tensorflow-intel==2.16.1->tensorflow) (3.0.0)\n",
      "Requirement already satisfied: pygments<3.0.0,>=2.13.0 in d:\\uma\\tfg\\tfg-adversarial\\myenv\\lib\\site-packages (from rich->keras>=3.0.0->tensorflow-intel==2.16.1->tensorflow) (2.17.2)\n",
      "Requirement already satisfied: mdurl~=0.1 in d:\\uma\\tfg\\tfg-adversarial\\myenv\\lib\\site-packages (from markdown-it-py>=2.2.0->rich->keras>=3.0.0->tensorflow-intel==2.16.1->tensorflow) (0.1.2)\n"
     ]
    }
   ],
   "source": [
    "!pip install tensorflow opencv-python matplotlib"
   ]
  },
  {
   "cell_type": "code",
   "execution_count": 4,
   "metadata": {},
   "outputs": [
    {
     "name": "stdout",
     "output_type": "stream",
     "text": [
      "Package                  Version\n",
      "------------------------ --------\n",
      "absl-py                  2.1.0\n",
      "apimatic-core            0.2.6\n",
      "apimatic-core-interfaces 0.1.4\n",
      "asttokens                2.4.1\n",
      "astunparse               1.6.3\n",
      "certifi                  2024.2.2\n",
      "charset-normalizer       3.3.2\n",
      "colorama                 0.4.6\n",
      "comm                     0.2.2\n",
      "contourpy                1.2.0\n",
      "cycler                   0.12.1\n",
      "debugpy                  1.8.1\n",
      "decorator                5.1.1\n",
      "enum34                   1.1.10\n",
      "executing                2.0.1\n",
      "flatbuffers              24.3.7\n",
      "fonttools                4.50.0\n",
      "gast                     0.5.4\n",
      "google-pasta             0.2.0\n",
      "grpcio                   1.62.1\n",
      "h5py                     3.10.0\n",
      "idna                     3.6\n",
      "ipykernel                6.29.3\n",
      "ipython                  8.22.2\n",
      "jedi                     0.19.1\n",
      "jsonpickle               3.0.3\n",
      "jsonpointer              2.4\n",
      "jupyter_client           8.6.1\n",
      "jupyter_core             5.7.2\n",
      "keras                    3.1.0\n",
      "kiwisolver               1.4.5\n",
      "libclang                 18.1.1\n",
      "Markdown                 3.6\n",
      "markdown-it-py           3.0.0\n",
      "MarkupSafe               2.1.5\n",
      "matplotlib               3.8.3\n",
      "matplotlib-inline        0.1.6\n",
      "mdurl                    0.1.2\n",
      "ml-dtypes                0.3.2\n",
      "namex                    0.0.7\n",
      "nest-asyncio             1.6.0\n",
      "numpy                    1.26.4\n",
      "opencv-python            4.9.0.80\n",
      "opt-einsum               3.3.0\n",
      "optree                   0.10.0\n",
      "packaging                24.0\n",
      "parso                    0.8.3\n",
      "pillow                   10.2.0\n",
      "pip                      24.0\n",
      "platformdirs             4.2.0\n",
      "prompt-toolkit           3.0.43\n",
      "protobuf                 4.25.3\n",
      "psutil                   5.9.8\n",
      "pure-eval                0.2.2\n",
      "Pygments                 2.17.2\n",
      "pyparsing                3.1.2\n",
      "python-dateutil          2.8.2\n",
      "pywin32                  306\n",
      "pyzmq                    25.1.2\n",
      "requests                 2.31.0\n",
      "rich                     13.7.1\n",
      "setuptools               66.0.0\n",
      "six                      1.16.0\n",
      "stack-data               0.6.3\n",
      "tensorboard              2.16.2\n",
      "tensorboard-data-server  0.7.2\n",
      "tensorflow               2.16.1\n",
      "tensorflow-intel         2.16.1\n",
      "termcolor                2.4.0\n",
      "tornado                  6.4\n",
      "traitlets                5.14.2\n",
      "typing_extensions        4.10.0\n",
      "urllib3                  2.2.1\n",
      "wcwidth                  0.2.13\n",
      "Werkzeug                 3.0.1\n",
      "wheel                    0.43.0\n",
      "wrapt                    1.16.0\n"
     ]
    }
   ],
   "source": [
    "!pip list"
   ]
  },
  {
   "cell_type": "code",
   "execution_count": 5,
   "metadata": {},
   "outputs": [],
   "source": [
    "import tensorflow as tf\n",
    "import os"
   ]
  },
  {
   "cell_type": "code",
   "execution_count": 6,
   "metadata": {},
   "outputs": [
    {
     "data": {
      "text/plain": [
       "0"
      ]
     },
     "execution_count": 6,
     "metadata": {},
     "output_type": "execute_result"
    }
   ],
   "source": [
    "gpus = tf.config.experimental.list_physical_devices('GPU')\n",
    "len(gpus)"
   ]
  }
 ],
 "metadata": {
  "kernelspec": {
   "display_name": "Python 3",
   "language": "python",
   "name": "python3"
  },
  "language_info": {
   "codemirror_mode": {
    "name": "ipython",
    "version": 3
   },
   "file_extension": ".py",
   "mimetype": "text/x-python",
   "name": "python",
   "nbconvert_exporter": "python",
   "pygments_lexer": "ipython3",
   "version": "3.12.2"
  }
 },
 "nbformat": 4,
 "nbformat_minor": 2
}
