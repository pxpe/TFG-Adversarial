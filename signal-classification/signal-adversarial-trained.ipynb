{
 "cells": [
  {
   "cell_type": "code",
   "execution_count": null,
   "metadata": {},
   "outputs": [],
   "source": [
    "import tensorflow as t\n",
    "import os\n",
    "\n",
    "import cv2\n",
    "import imghdr\n",
    "import numpy as np\n",
    "from matplotlib import pyplot as plt\n",
    "\n",
    "# Importar dependencias para el modelo\n",
    "from tensorflow.python.keras.models import Sequential\n",
    "from tensorflow.python.keras.layers import Dense, Conv2D, Flatten, MaxPooling2D\n",
    "\n",
    "# Importar dependencias para guardar el modelo\n",
    "from tensorflow.python.keras.models import save_model, load_model"
   ]
  },
  {
   "cell_type": "code",
   "execution_count": null,
   "metadata": {},
   "outputs": [],
   "source": [
    "data_dir = 'data-adversarial-training'\n",
    "\n",
    "# Mostrar una imagen con matplotlib usando cv2 para corregir los colores\n",
    "def mostrarImagen(img: cv2.typing.MatLike):\n",
    "    plt.imshow(cv2.cvtColor(img, cv2.COLOR_BGR2RGB))"
   ]
  },
  {
   "cell_type": "code",
   "execution_count": null,
   "metadata": {},
   "outputs": [],
   "source": [
    "datos = t.keras.utils.image_dataset_from_directory(\n",
    "    data_dir,\n",
    "    batch_size=32,  # Tamaño de lote de datos\n",
    ")\n",
    "# Creamos un iterador para recorrer los datos\n",
    "iterador_datos = datos.as_numpy_iterator()\n",
    "lote_datos = iterador_datos.next() # Si tenemos error implica que las imágenes tienen formatos incorrectos."
   ]
  },
  {
   "cell_type": "code",
   "execution_count": null,
   "metadata": {},
   "outputs": [],
   "source": [
    "lote_datos # (imagenes, etiquetas)"
   ]
  },
  {
   "cell_type": "code",
   "execution_count": null,
   "metadata": {},
   "outputs": [],
   "source": [
    "# Diccionario de etiquetas\n",
    "nombre_etiqueta = {\n",
    "    0: 'Señal Máx. 120Km/h',\n",
    "    1: 'Señal Máx. 50Km/h',\n",
    "    2: 'Señal Radar',\n",
    "    3: 'Señal STOP'\n",
    "}\n",
    "\n",
    "def mostrarPrediccion(yhat: np.ndarray,img):\n",
    "\n",
    "    plt.imshow(cv2.cvtColor(img, cv2.COLOR_BGR2RGB))\n",
    "    plt.title('Prediccion: {}'.format(nombre_etiqueta[np.argmax(yhat)]))\n",
    "    plt.show()"
   ]
  },
  {
   "cell_type": "code",
   "execution_count": null,
   "metadata": {},
   "outputs": [],
   "source": [
    "datos = datos.map(lambda x,y: (x/255, y))"
   ]
  },
  {
   "cell_type": "code",
   "execution_count": null,
   "metadata": {},
   "outputs": [],
   "source": [
    "iterador_datos = datos.as_numpy_iterator()\n",
    "lote_datos = iterador_datos.next()"
   ]
  },
  {
   "cell_type": "code",
   "execution_count": null,
   "metadata": {},
   "outputs": [],
   "source": [
    "# Mostrar las clases de las imágenes con ejemplo\n",
    "fig, axs = plt.subplots(1, 4, figsize=(15, 15),sharey=True)\n",
    "for idx,img in enumerate(lote_datos[0][:4]):\n",
    "    axs[idx].imshow(img.astype(np.uint8))\n",
    "    clase = lote_datos[1][idx]\n",
    "    axs[idx].set_title('Clase {}: ({})'.format(clase,nombre_etiqueta[clase]))\n",
    "    axs[idx].axis('off')"
   ]
  },
  {
   "cell_type": "code",
   "execution_count": null,
   "metadata": {},
   "outputs": [],
   "source": [
    "size_entrenamiento = int(len(datos) * 0.7)\n",
    "size_validacion = int(len(datos) * 0.15) + 1\n",
    "size_test = int(len(datos) * 0.15) + 1\n",
    "\n",
    "#len(datos) == size_entrenamiento + size_validacion + size_test"
   ]
  },
  {
   "cell_type": "code",
   "execution_count": null,
   "metadata": {},
   "outputs": [],
   "source": [
    "particion_entrenamiento = datos.take(size_entrenamiento)\n",
    "particion_validacion = datos.skip(size_entrenamiento).take(size_validacion)\n",
    "particion_test = datos.skip(size_entrenamiento + size_validacion)"
   ]
  },
  {
   "cell_type": "code",
   "execution_count": null,
   "metadata": {},
   "outputs": [],
   "source": [
    "modelo  = Sequential() # Inicializar el modelo"
   ]
  },
  {
   "cell_type": "code",
   "execution_count": null,
   "metadata": {},
   "outputs": [],
   "source": [
    "modelo.add(Conv2D(16, (3, 3),1 , activation='relu', input_shape=(256, 256, 3))) # Capa de convolución\n",
    "modelo.add(MaxPooling2D()) # Capa de pooling\n",
    "\n",
    "modelo.add(Conv2D(32, (3, 3),1 , activation='relu')) # Capa de convolución\n",
    "modelo.add(MaxPooling2D()) # Capa de pooling\n",
    "\n",
    "modelo.add(Conv2D(16, (3, 3),1 , activation='relu')) # Capa de convolución\n",
    "modelo.add(MaxPooling2D()) # Capa de pooling\n",
    "\n",
    "modelo.add(Flatten()) # Aplanar la imagen\n",
    "\n",
    "modelo.add(Dense(256, activation='relu')) # Capa densa\n",
    "modelo.add(Dense(4, activation='softmax')) # Capa densa"
   ]
  },
  {
   "cell_type": "code",
   "execution_count": null,
   "metadata": {},
   "outputs": [],
   "source": [
    "# Compilar el modelo\n",
    "modelo.compile(optimizer='adam', loss='sparse_categorical_crossentropy', metrics=['accuracy'])"
   ]
  },
  {
   "cell_type": "code",
   "execution_count": null,
   "metadata": {},
   "outputs": [],
   "source": [
    "# Ver las estadísticas del modelo generado\n",
    "modelo.summary()"
   ]
  },
  {
   "cell_type": "code",
   "execution_count": null,
   "metadata": {},
   "outputs": [],
   "source": [
    "# Seleccionar directorio para guardar los logs\n",
    "logs_dir = 'logs-adversarial-training'\n",
    "tensorboard_callback = t.keras.callbacks.TensorBoard(log_dir=logs_dir, histogram_freq=1)"
   ]
  },
  {
   "cell_type": "code",
   "execution_count": null,
   "metadata": {},
   "outputs": [],
   "source": [
    "# Entrenar el modelo y guardar los logs\n",
    "hist = modelo.fit(particion_entrenamiento, validation_data=particion_validacion, epochs=20, callbacks=[tensorboard_callback])"
   ]
  },
  {
   "cell_type": "code",
   "execution_count": null,
   "metadata": {},
   "outputs": [],
   "source": [
    "# Evaluar la precisión del modelo\n",
    "fig = plt.figure()\n",
    "plt.plot(hist.history['accuracy'])\n",
    "plt.plot(hist.history['val_accuracy'])\n",
    "plt.title('Precisión del modelo')\n",
    "plt.ylabel('Precisión')\n",
    "plt.xlabel('Época')\n",
    "plt.legend(['Entrenamiento', 'Validación'], loc='upper left')\n",
    "plt.show()"
   ]
  },
  {
   "cell_type": "code",
   "execution_count": null,
   "metadata": {},
   "outputs": [],
   "source": [
    "modelo.save(os.path.join('models','SignAdversaryTrainedClassifier.h5'))"
   ]
  }
 ],
 "metadata": {
  "language_info": {
   "name": "python"
  }
 },
 "nbformat": 4,
 "nbformat_minor": 2
}
