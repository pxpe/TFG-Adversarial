{
 "cells": [
  {
   "cell_type": "markdown",
   "metadata": {},
   "source": [
    "# Clasificación de señales de tráfico usando TensorFlow y Keras"
   ]
  },
  {
   "cell_type": "markdown",
   "metadata": {},
   "source": [
    "Instalación de dependencias:"
   ]
  },
  {
   "cell_type": "code",
   "execution_count": null,
   "metadata": {
    "scrolled": true
   },
   "outputs": [],
   "source": [
    "!pip install tensorflow==2.10 opencv-python matplotlib"
   ]
  },
  {
   "cell_type": "code",
   "execution_count": null,
   "metadata": {
    "scrolled": true
   },
   "outputs": [],
   "source": [
    "!pip list"
   ]
  },
  {
   "cell_type": "code",
   "execution_count": null,
   "metadata": {
    "slideshow": {
     "slide_type": ""
    },
    "tags": []
   },
   "outputs": [],
   "source": [
    "import tensorflow as t\n",
    "import os\n",
    "\n",
    "import cv2\n",
    "import imghdr\n",
    "import numpy as np\n",
    "from matplotlib import pyplot as plt\n",
    "\n",
    "# Importar dependencias para el modelo\n",
    "from tensorflow.python.keras.models import Sequential\n",
    "from tensorflow.python.keras.layers import Dense, Conv2D, Flatten, MaxPooling2D"
   ]
  },
  {
   "cell_type": "code",
   "execution_count": null,
   "metadata": {},
   "outputs": [],
   "source": [
    "gpus = t.config.experimental.list_physical_devices('GPU')\n",
    "len(gpus) # 1 -> GPU disponible"
   ]
  },
  {
   "cell_type": "markdown",
   "metadata": {
    "notebookRunGroups": {
     "groupValue": "1"
    }
   },
   "source": [
    "Funciones sobre imágenes:"
   ]
  },
  {
   "cell_type": "code",
   "execution_count": null,
   "metadata": {},
   "outputs": [],
   "source": [
    "data_dir = 'data'\n",
    "\n",
    "# Mostrar una imagen con matplotlib usando cv2 para corregir los colores\n",
    "def mostrarImagen(img: cv2.typing.MatLike):\n",
    "    plt.imshow(cv2.cvtColor(img, cv2.COLOR_BGR2RGB))"
   ]
  },
  {
   "cell_type": "code",
   "execution_count": null,
   "metadata": {
    "notebookRunGroups": {
     "groupValue": ""
    }
   },
   "outputs": [],
   "source": [
    "# Ejemplo de lectura de imagen\n",
    "img = cv2.imread(os.path.join(data_dir, 'stop-sign', '1c56eb1de271aaca19a8f081dca6e5eb.jpg'))\n",
    "mostrarImagen(img)"
   ]
  },
  {
   "cell_type": "markdown",
   "metadata": {},
   "source": [
    "Carga de las imágenes:\n",
    "  1. Eliminar imágenes que no tengan un formato comprendido entre los siguientes: JPEG, JPG, BMP, PNG."
   ]
  },
  {
   "cell_type": "code",
   "execution_count": null,
   "metadata": {},
   "outputs": [],
   "source": [
    "image_exts = ['jpeg','jpg', 'bmp', 'png']\n",
    "\n",
    "for image_class in os.listdir(data_dir): \n",
    "    for image in os.listdir(os.path.join(data_dir, image_class)):\n",
    "        image_path = os.path.join(data_dir, image_class, image)\n",
    "        try: \n",
    "            img = cv2.imread(image_path)\n",
    "            tip = imghdr.what(image_path)\n",
    "            if tip not in image_exts: \n",
    "                print('La imágen no tiene el formato: {}'.format(image_path))\n",
    "                os.remove(image_path)\n",
    "        except Exception as e: \n",
    "            pass"
   ]
  },
  {
   "cell_type": "code",
   "execution_count": null,
   "metadata": {},
   "outputs": [],
   "source": [
    "datos = t.keras.utils.image_dataset_from_directory(\n",
    "    data_dir,\n",
    "    image_size=(256, 256),  # Ajuste de tamaño\n",
    "    batch_size=32,  # Tamaño de lote de datos\n",
    ")"
   ]
  },
  {
   "cell_type": "code",
   "execution_count": null,
   "metadata": {},
   "outputs": [],
   "source": [
    "# Creamos un iterador para recorrer los datos\n",
    "iterador_datos = datos.as_numpy_iterator()"
   ]
  },
  {
   "cell_type": "code",
   "execution_count": null,
   "metadata": {},
   "outputs": [],
   "source": [
    "lote_datos = iterador_datos.next() # Si tenemos error implica que las imágenes tienen formatos incorrectos."
   ]
  },
  {
   "cell_type": "code",
   "execution_count": null,
   "metadata": {},
   "outputs": [],
   "source": [
    "lote_datos # (imagenes, etiquetas)"
   ]
  },
  {
   "cell_type": "code",
   "execution_count": null,
   "metadata": {},
   "outputs": [],
   "source": [
    "# Diccionario de etiquetas\n",
    "nombre_etiqueta = {\n",
    "    0: 'Señal Máx. 120Km/h',\n",
    "    1: 'Señal Máx. 50Km/h',\n",
    "    2: 'Señal Radar',\n",
    "    3: 'Señal STOP'\n",
    "\n",
    "}"
   ]
  },
  {
   "cell_type": "code",
   "execution_count": null,
   "metadata": {},
   "outputs": [],
   "source": [
    "# Mostrar las clases de las imágenes con ejemplo\n",
    "fig, axs = plt.subplots(1, 4, figsize=(15, 15),sharey=True)\n",
    "for idx,img in enumerate(lote_datos[0][:4]):\n",
    "    axs[idx].imshow(img.astype(np.uint8))\n",
    "    clase = lote_datos[1][idx]\n",
    "    axs[idx].set_title('Clase {}: ({})'.format(clase,nombre_etiqueta[clase]))\n",
    "    axs[idx].axis('off')"
   ]
  },
  {
   "cell_type": "markdown",
   "metadata": {},
   "source": [
    "Definición de los conjuntos de imágenes para la creación del modelo:"
   ]
  },
  {
   "cell_type": "code",
   "execution_count": null,
   "metadata": {},
   "outputs": [],
   "source": [
    "size_entrenamiento = int(len(datos) * 0.7)\n",
    "size_validacion = int(len(datos) * 0.15) + 1\n",
    "size_test = int(len(datos) * 0.15) + 1\n",
    "\n",
    "#len(datos) == size_entrenamiento + size_validacion + size_test"
   ]
  },
  {
   "cell_type": "code",
   "execution_count": null,
   "metadata": {},
   "outputs": [],
   "source": [
    "particion_entrenamiento = datos.take(size_entrenamiento)\n",
    "particion_validacion = datos.skip(size_entrenamiento).take(size_validacion)\n",
    "particion_test = datos.skip(size_entrenamiento + size_validacion)"
   ]
  },
  {
   "cell_type": "markdown",
   "metadata": {},
   "source": [
    "Creación del modelo:"
   ]
  },
  {
   "cell_type": "code",
   "execution_count": null,
   "metadata": {},
   "outputs": [],
   "source": [
    "modelo  = Sequential() # Inicializar el modelo"
   ]
  },
  {
   "cell_type": "code",
   "execution_count": null,
   "metadata": {},
   "outputs": [],
   "source": [
    "modelo.add(Conv2D(16, (3, 3),1 , activation='relu', input_shape=(256, 256, 3))) # Capa de convolución\n",
    "modelo.add(MaxPooling2D()) # Capa de pooling\n",
    "\n",
    "modelo.add(Conv2D(32, (3, 3),1 , activation='relu')) # Capa de convolución\n",
    "modelo.add(MaxPooling2D()) # Capa de pooling\n",
    "\n",
    "modelo.add(Conv2D(16, (3, 3),1 , activation='relu')) # Capa de convolución\n",
    "modelo.add(MaxPooling2D()) # Capa de pooling\n",
    "\n",
    "modelo.add(Flatten()) # Aplanar la imagen\n",
    "\n",
    "modelo.add(Dense(256, activation='relu')) # Capa densa\n",
    "modelo.add(Dense(1, activation='sigmoid')) # Capa densa"
   ]
  },
  {
   "cell_type": "code",
   "execution_count": null,
   "metadata": {},
   "outputs": [],
   "source": [
    "# Compilar el modelo\n",
    "modelo.compile(optimizer='adam', loss='binary_crossentropy', metrics=['accuracy'])"
   ]
  },
  {
   "cell_type": "code",
   "execution_count": null,
   "metadata": {},
   "outputs": [],
   "source": [
    "# Ver las estadísticas del modelo generado\n",
    "modelo.summary()"
   ]
  },
  {
   "cell_type": "markdown",
   "metadata": {},
   "source": [
    "Fase de entrenamiento:"
   ]
  },
  {
   "cell_type": "code",
   "execution_count": null,
   "metadata": {},
   "outputs": [],
   "source": [
    "# Seleccionar directorio para guardar los logs\n",
    "logs_dir = 'logs'\n",
    "tensorboard_callback = t.keras.callbacks.TensorBoard(log_dir=logs_dir, histogram_freq=1)"
   ]
  },
  {
   "cell_type": "code",
   "execution_count": null,
   "metadata": {},
   "outputs": [],
   "source": [
    "# Entrenar el modelo y guardar los logs\n",
    "hist = modelo.fit(particion_entrenamiento, validation_data=particion_validacion, epochs=20, callbacks=[tensorboard_callback])"
   ]
  }
 ],
 "metadata": {
  "kernelspec": {
   "display_name": "Python 3",
   "language": "python",
   "name": "python3"
  },
  "language_info": {
   "codemirror_mode": {
    "name": "ipython",
    "version": 3
   },
   "file_extension": ".py",
   "mimetype": "text/x-python",
   "name": "python",
   "nbconvert_exporter": "python",
   "pygments_lexer": "ipython3",
   "version": "3.7.3"
  }
 },
 "nbformat": 4,
 "nbformat_minor": 4
}
